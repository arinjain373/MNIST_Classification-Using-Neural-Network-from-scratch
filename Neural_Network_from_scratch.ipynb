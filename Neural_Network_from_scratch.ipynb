{
  "nbformat": 4,
  "nbformat_minor": 0,
  "metadata": {
    "colab": {
      "provenance": [],
      "authorship_tag": "ABX9TyNhkxjd768T4n98we+w+ww/",
      "include_colab_link": true
    },
    "kernelspec": {
      "name": "python3",
      "display_name": "Python 3"
    },
    "language_info": {
      "name": "python"
    }
  },
  "cells": [
    {
      "cell_type": "markdown",
      "metadata": {
        "id": "view-in-github",
        "colab_type": "text"
      },
      "source": [
        "<a href=\"https://colab.research.google.com/github/arinjain373/Neural-Network-from-scratch/blob/main/Neural_Network_from_scratch.ipynb\" target=\"_parent\"><img src=\"https://colab.research.google.com/assets/colab-badge.svg\" alt=\"Open In Colab\"/></a>"
      ]
    },
    {
      "cell_type": "code",
      "execution_count": 111,
      "metadata": {
        "id": "YDj_E6yuxPi-"
      },
      "outputs": [],
      "source": [
        "import numpy as np\n",
        "import pandas as pd\n",
        "from matplotlib import pyplot as plt"
      ]
    },
    {
      "cell_type": "code",
      "source": [
        "data = pd.read_csv('train.csv')"
      ],
      "metadata": {
        "id": "bsgxrTWExeoi"
      },
      "execution_count": 112,
      "outputs": []
    },
    {
      "cell_type": "code",
      "source": [
        "data.head()"
      ],
      "metadata": {
        "colab": {
          "base_uri": "https://localhost:8080/",
          "height": 279
        },
        "id": "eL22Mq6ryHVR",
        "outputId": "c8a9dc00-0b30-4590-8218-8b5d2f7daada"
      },
      "execution_count": 113,
      "outputs": [
        {
          "output_type": "execute_result",
          "data": {
            "text/plain": [
              "   label  pixel0  pixel1  pixel2  pixel3  pixel4  pixel5  pixel6  pixel7  \\\n",
              "0      1       0       0       0       0       0       0       0       0   \n",
              "1      0       0       0       0       0       0       0       0       0   \n",
              "2      1       0       0       0       0       0       0       0       0   \n",
              "3      4       0       0       0       0       0       0       0       0   \n",
              "4      0       0       0       0       0       0       0       0       0   \n",
              "\n",
              "   pixel8  ...  pixel774  pixel775  pixel776  pixel777  pixel778  pixel779  \\\n",
              "0       0  ...         0         0         0         0         0         0   \n",
              "1       0  ...         0         0         0         0         0         0   \n",
              "2       0  ...         0         0         0         0         0         0   \n",
              "3       0  ...         0         0         0         0         0         0   \n",
              "4       0  ...         0         0         0         0         0         0   \n",
              "\n",
              "   pixel780  pixel781  pixel782  pixel783  \n",
              "0         0         0         0         0  \n",
              "1         0         0         0         0  \n",
              "2         0         0         0         0  \n",
              "3         0         0         0         0  \n",
              "4         0         0         0         0  \n",
              "\n",
              "[5 rows x 785 columns]"
            ],
            "text/html": [
              "\n",
              "\n",
              "  <div id=\"df-c90089c7-c127-45fa-9355-36faf8f6b8c7\">\n",
              "    <div class=\"colab-df-container\">\n",
              "      <div>\n",
              "<style scoped>\n",
              "    .dataframe tbody tr th:only-of-type {\n",
              "        vertical-align: middle;\n",
              "    }\n",
              "\n",
              "    .dataframe tbody tr th {\n",
              "        vertical-align: top;\n",
              "    }\n",
              "\n",
              "    .dataframe thead th {\n",
              "        text-align: right;\n",
              "    }\n",
              "</style>\n",
              "<table border=\"1\" class=\"dataframe\">\n",
              "  <thead>\n",
              "    <tr style=\"text-align: right;\">\n",
              "      <th></th>\n",
              "      <th>label</th>\n",
              "      <th>pixel0</th>\n",
              "      <th>pixel1</th>\n",
              "      <th>pixel2</th>\n",
              "      <th>pixel3</th>\n",
              "      <th>pixel4</th>\n",
              "      <th>pixel5</th>\n",
              "      <th>pixel6</th>\n",
              "      <th>pixel7</th>\n",
              "      <th>pixel8</th>\n",
              "      <th>...</th>\n",
              "      <th>pixel774</th>\n",
              "      <th>pixel775</th>\n",
              "      <th>pixel776</th>\n",
              "      <th>pixel777</th>\n",
              "      <th>pixel778</th>\n",
              "      <th>pixel779</th>\n",
              "      <th>pixel780</th>\n",
              "      <th>pixel781</th>\n",
              "      <th>pixel782</th>\n",
              "      <th>pixel783</th>\n",
              "    </tr>\n",
              "  </thead>\n",
              "  <tbody>\n",
              "    <tr>\n",
              "      <th>0</th>\n",
              "      <td>1</td>\n",
              "      <td>0</td>\n",
              "      <td>0</td>\n",
              "      <td>0</td>\n",
              "      <td>0</td>\n",
              "      <td>0</td>\n",
              "      <td>0</td>\n",
              "      <td>0</td>\n",
              "      <td>0</td>\n",
              "      <td>0</td>\n",
              "      <td>...</td>\n",
              "      <td>0</td>\n",
              "      <td>0</td>\n",
              "      <td>0</td>\n",
              "      <td>0</td>\n",
              "      <td>0</td>\n",
              "      <td>0</td>\n",
              "      <td>0</td>\n",
              "      <td>0</td>\n",
              "      <td>0</td>\n",
              "      <td>0</td>\n",
              "    </tr>\n",
              "    <tr>\n",
              "      <th>1</th>\n",
              "      <td>0</td>\n",
              "      <td>0</td>\n",
              "      <td>0</td>\n",
              "      <td>0</td>\n",
              "      <td>0</td>\n",
              "      <td>0</td>\n",
              "      <td>0</td>\n",
              "      <td>0</td>\n",
              "      <td>0</td>\n",
              "      <td>0</td>\n",
              "      <td>...</td>\n",
              "      <td>0</td>\n",
              "      <td>0</td>\n",
              "      <td>0</td>\n",
              "      <td>0</td>\n",
              "      <td>0</td>\n",
              "      <td>0</td>\n",
              "      <td>0</td>\n",
              "      <td>0</td>\n",
              "      <td>0</td>\n",
              "      <td>0</td>\n",
              "    </tr>\n",
              "    <tr>\n",
              "      <th>2</th>\n",
              "      <td>1</td>\n",
              "      <td>0</td>\n",
              "      <td>0</td>\n",
              "      <td>0</td>\n",
              "      <td>0</td>\n",
              "      <td>0</td>\n",
              "      <td>0</td>\n",
              "      <td>0</td>\n",
              "      <td>0</td>\n",
              "      <td>0</td>\n",
              "      <td>...</td>\n",
              "      <td>0</td>\n",
              "      <td>0</td>\n",
              "      <td>0</td>\n",
              "      <td>0</td>\n",
              "      <td>0</td>\n",
              "      <td>0</td>\n",
              "      <td>0</td>\n",
              "      <td>0</td>\n",
              "      <td>0</td>\n",
              "      <td>0</td>\n",
              "    </tr>\n",
              "    <tr>\n",
              "      <th>3</th>\n",
              "      <td>4</td>\n",
              "      <td>0</td>\n",
              "      <td>0</td>\n",
              "      <td>0</td>\n",
              "      <td>0</td>\n",
              "      <td>0</td>\n",
              "      <td>0</td>\n",
              "      <td>0</td>\n",
              "      <td>0</td>\n",
              "      <td>0</td>\n",
              "      <td>...</td>\n",
              "      <td>0</td>\n",
              "      <td>0</td>\n",
              "      <td>0</td>\n",
              "      <td>0</td>\n",
              "      <td>0</td>\n",
              "      <td>0</td>\n",
              "      <td>0</td>\n",
              "      <td>0</td>\n",
              "      <td>0</td>\n",
              "      <td>0</td>\n",
              "    </tr>\n",
              "    <tr>\n",
              "      <th>4</th>\n",
              "      <td>0</td>\n",
              "      <td>0</td>\n",
              "      <td>0</td>\n",
              "      <td>0</td>\n",
              "      <td>0</td>\n",
              "      <td>0</td>\n",
              "      <td>0</td>\n",
              "      <td>0</td>\n",
              "      <td>0</td>\n",
              "      <td>0</td>\n",
              "      <td>...</td>\n",
              "      <td>0</td>\n",
              "      <td>0</td>\n",
              "      <td>0</td>\n",
              "      <td>0</td>\n",
              "      <td>0</td>\n",
              "      <td>0</td>\n",
              "      <td>0</td>\n",
              "      <td>0</td>\n",
              "      <td>0</td>\n",
              "      <td>0</td>\n",
              "    </tr>\n",
              "  </tbody>\n",
              "</table>\n",
              "<p>5 rows × 785 columns</p>\n",
              "</div>\n",
              "      <button class=\"colab-df-convert\" onclick=\"convertToInteractive('df-c90089c7-c127-45fa-9355-36faf8f6b8c7')\"\n",
              "              title=\"Convert this dataframe to an interactive table.\"\n",
              "              style=\"display:none;\">\n",
              "\n",
              "  <svg xmlns=\"http://www.w3.org/2000/svg\" height=\"24px\"viewBox=\"0 0 24 24\"\n",
              "       width=\"24px\">\n",
              "    <path d=\"M0 0h24v24H0V0z\" fill=\"none\"/>\n",
              "    <path d=\"M18.56 5.44l.94 2.06.94-2.06 2.06-.94-2.06-.94-.94-2.06-.94 2.06-2.06.94zm-11 1L8.5 8.5l.94-2.06 2.06-.94-2.06-.94L8.5 2.5l-.94 2.06-2.06.94zm10 10l.94 2.06.94-2.06 2.06-.94-2.06-.94-.94-2.06-.94 2.06-2.06.94z\"/><path d=\"M17.41 7.96l-1.37-1.37c-.4-.4-.92-.59-1.43-.59-.52 0-1.04.2-1.43.59L10.3 9.45l-7.72 7.72c-.78.78-.78 2.05 0 2.83L4 21.41c.39.39.9.59 1.41.59.51 0 1.02-.2 1.41-.59l7.78-7.78 2.81-2.81c.8-.78.8-2.07 0-2.86zM5.41 20L4 18.59l7.72-7.72 1.47 1.35L5.41 20z\"/>\n",
              "  </svg>\n",
              "      </button>\n",
              "\n",
              "\n",
              "\n",
              "    <div id=\"df-c1ea9637-6523-4a3f-8aa8-bd40f048255f\">\n",
              "      <button class=\"colab-df-quickchart\" onclick=\"quickchart('df-c1ea9637-6523-4a3f-8aa8-bd40f048255f')\"\n",
              "              title=\"Suggest charts.\"\n",
              "              style=\"display:none;\">\n",
              "\n",
              "<svg xmlns=\"http://www.w3.org/2000/svg\" height=\"24px\"viewBox=\"0 0 24 24\"\n",
              "     width=\"24px\">\n",
              "    <g>\n",
              "        <path d=\"M19 3H5c-1.1 0-2 .9-2 2v14c0 1.1.9 2 2 2h14c1.1 0 2-.9 2-2V5c0-1.1-.9-2-2-2zM9 17H7v-7h2v7zm4 0h-2V7h2v10zm4 0h-2v-4h2v4z\"/>\n",
              "    </g>\n",
              "</svg>\n",
              "      </button>\n",
              "    </div>\n",
              "\n",
              "<style>\n",
              "  .colab-df-quickchart {\n",
              "    background-color: #E8F0FE;\n",
              "    border: none;\n",
              "    border-radius: 50%;\n",
              "    cursor: pointer;\n",
              "    display: none;\n",
              "    fill: #1967D2;\n",
              "    height: 32px;\n",
              "    padding: 0 0 0 0;\n",
              "    width: 32px;\n",
              "  }\n",
              "\n",
              "  .colab-df-quickchart:hover {\n",
              "    background-color: #E2EBFA;\n",
              "    box-shadow: 0px 1px 2px rgba(60, 64, 67, 0.3), 0px 1px 3px 1px rgba(60, 64, 67, 0.15);\n",
              "    fill: #174EA6;\n",
              "  }\n",
              "\n",
              "  [theme=dark] .colab-df-quickchart {\n",
              "    background-color: #3B4455;\n",
              "    fill: #D2E3FC;\n",
              "  }\n",
              "\n",
              "  [theme=dark] .colab-df-quickchart:hover {\n",
              "    background-color: #434B5C;\n",
              "    box-shadow: 0px 1px 3px 1px rgba(0, 0, 0, 0.15);\n",
              "    filter: drop-shadow(0px 1px 2px rgba(0, 0, 0, 0.3));\n",
              "    fill: #FFFFFF;\n",
              "  }\n",
              "</style>\n",
              "\n",
              "    <script>\n",
              "      async function quickchart(key) {\n",
              "        const containerElement = document.querySelector('#' + key);\n",
              "        const charts = await google.colab.kernel.invokeFunction(\n",
              "            'suggestCharts', [key], {});\n",
              "      }\n",
              "    </script>\n",
              "\n",
              "      <script>\n",
              "\n",
              "function displayQuickchartButton(domScope) {\n",
              "  let quickchartButtonEl =\n",
              "    domScope.querySelector('#df-c1ea9637-6523-4a3f-8aa8-bd40f048255f button.colab-df-quickchart');\n",
              "  quickchartButtonEl.style.display =\n",
              "    google.colab.kernel.accessAllowed ? 'block' : 'none';\n",
              "}\n",
              "\n",
              "        displayQuickchartButton(document);\n",
              "      </script>\n",
              "      <style>\n",
              "    .colab-df-container {\n",
              "      display:flex;\n",
              "      flex-wrap:wrap;\n",
              "      gap: 12px;\n",
              "    }\n",
              "\n",
              "    .colab-df-convert {\n",
              "      background-color: #E8F0FE;\n",
              "      border: none;\n",
              "      border-radius: 50%;\n",
              "      cursor: pointer;\n",
              "      display: none;\n",
              "      fill: #1967D2;\n",
              "      height: 32px;\n",
              "      padding: 0 0 0 0;\n",
              "      width: 32px;\n",
              "    }\n",
              "\n",
              "    .colab-df-convert:hover {\n",
              "      background-color: #E2EBFA;\n",
              "      box-shadow: 0px 1px 2px rgba(60, 64, 67, 0.3), 0px 1px 3px 1px rgba(60, 64, 67, 0.15);\n",
              "      fill: #174EA6;\n",
              "    }\n",
              "\n",
              "    [theme=dark] .colab-df-convert {\n",
              "      background-color: #3B4455;\n",
              "      fill: #D2E3FC;\n",
              "    }\n",
              "\n",
              "    [theme=dark] .colab-df-convert:hover {\n",
              "      background-color: #434B5C;\n",
              "      box-shadow: 0px 1px 3px 1px rgba(0, 0, 0, 0.15);\n",
              "      filter: drop-shadow(0px 1px 2px rgba(0, 0, 0, 0.3));\n",
              "      fill: #FFFFFF;\n",
              "    }\n",
              "  </style>\n",
              "\n",
              "      <script>\n",
              "        const buttonEl =\n",
              "          document.querySelector('#df-c90089c7-c127-45fa-9355-36faf8f6b8c7 button.colab-df-convert');\n",
              "        buttonEl.style.display =\n",
              "          google.colab.kernel.accessAllowed ? 'block' : 'none';\n",
              "\n",
              "        async function convertToInteractive(key) {\n",
              "          const element = document.querySelector('#df-c90089c7-c127-45fa-9355-36faf8f6b8c7');\n",
              "          const dataTable =\n",
              "            await google.colab.kernel.invokeFunction('convertToInteractive',\n",
              "                                                     [key], {});\n",
              "          if (!dataTable) return;\n",
              "\n",
              "          const docLinkHtml = 'Like what you see? Visit the ' +\n",
              "            '<a target=\"_blank\" href=https://colab.research.google.com/notebooks/data_table.ipynb>data table notebook</a>'\n",
              "            + ' to learn more about interactive tables.';\n",
              "          element.innerHTML = '';\n",
              "          dataTable['output_type'] = 'display_data';\n",
              "          await google.colab.output.renderOutput(dataTable, element);\n",
              "          const docLink = document.createElement('div');\n",
              "          docLink.innerHTML = docLinkHtml;\n",
              "          element.appendChild(docLink);\n",
              "        }\n",
              "      </script>\n",
              "    </div>\n",
              "  </div>\n"
            ]
          },
          "metadata": {},
          "execution_count": 113
        }
      ]
    },
    {
      "cell_type": "code",
      "source": [
        "data.shape"
      ],
      "metadata": {
        "colab": {
          "base_uri": "https://localhost:8080/"
        },
        "id": "4Dmnp5O81fOA",
        "outputId": "493cb422-c68b-4853-8be4-73a7764f8cf2"
      },
      "execution_count": 114,
      "outputs": [
        {
          "output_type": "execute_result",
          "data": {
            "text/plain": [
              "(42000, 785)"
            ]
          },
          "metadata": {},
          "execution_count": 114
        }
      ]
    },
    {
      "cell_type": "code",
      "source": [
        "m,n = data.shape"
      ],
      "metadata": {
        "id": "6D7dpd4d109T"
      },
      "execution_count": 115,
      "outputs": []
    },
    {
      "cell_type": "code",
      "source": [
        "data = np.array(data)"
      ],
      "metadata": {
        "id": "jdnlpE0AyPpr"
      },
      "execution_count": 116,
      "outputs": []
    },
    {
      "cell_type": "code",
      "source": [
        "np.random.shuffle(data)"
      ],
      "metadata": {
        "id": "K-Bt0ZTUyTQh"
      },
      "execution_count": 117,
      "outputs": []
    },
    {
      "cell_type": "code",
      "source": [
        "data_dev = data[0:1000].T\n",
        "Y_dev = data_dev[0]\n",
        "X_dev = data_dev[1:n]\n",
        "X_dev = X_dev / 255.\n",
        "\n",
        "\n",
        "data_train = data[1000:m].T\n",
        "Y_train = data_train[0]\n",
        "X_train = data_train[1:n]\n",
        "X_train = X_train / 255.\n",
        "_,m_train = X_train.shape"
      ],
      "metadata": {
        "id": "nbHZRDw8yjbk"
      },
      "execution_count": 118,
      "outputs": []
    },
    {
      "cell_type": "code",
      "source": [
        "X_train"
      ],
      "metadata": {
        "colab": {
          "base_uri": "https://localhost:8080/"
        },
        "id": "4GdlGtJo2RWz",
        "outputId": "0857d869-1d8d-4a2b-8418-c80871b7e98f"
      },
      "execution_count": 119,
      "outputs": [
        {
          "output_type": "execute_result",
          "data": {
            "text/plain": [
              "array([[0., 0., 0., ..., 0., 0., 0.],\n",
              "       [0., 0., 0., ..., 0., 0., 0.],\n",
              "       [0., 0., 0., ..., 0., 0., 0.],\n",
              "       ...,\n",
              "       [0., 0., 0., ..., 0., 0., 0.],\n",
              "       [0., 0., 0., ..., 0., 0., 0.],\n",
              "       [0., 0., 0., ..., 0., 0., 0.]])"
            ]
          },
          "metadata": {},
          "execution_count": 119
        }
      ]
    },
    {
      "cell_type": "code",
      "source": [
        "Y_train"
      ],
      "metadata": {
        "colab": {
          "base_uri": "https://localhost:8080/"
        },
        "id": "1d4QNDnZ2UaL",
        "outputId": "93d0030f-80e7-40d3-814d-ccff2dbbda25"
      },
      "execution_count": 120,
      "outputs": [
        {
          "output_type": "execute_result",
          "data": {
            "text/plain": [
              "array([5, 3, 1, ..., 4, 9, 4])"
            ]
          },
          "metadata": {},
          "execution_count": 120
        }
      ]
    },
    {
      "cell_type": "code",
      "source": [
        "def init_params():\n",
        "    W1 = np.random.rand(10, 784) - 0.5\n",
        "    b1 = np.random.rand(10, 1) - 0.5\n",
        "    W2 = np.random.rand(10, 10) - 0.5\n",
        "    b2 = np.random.rand(10, 1) - 0.5\n",
        "    return W1, b1, W2, b2\n"
      ],
      "metadata": {
        "id": "L23nAP3i2d6X"
      },
      "execution_count": 121,
      "outputs": []
    },
    {
      "cell_type": "code",
      "source": [
        "def ReLU(Z):\n",
        "    return np.maximum(Z, 0)"
      ],
      "metadata": {
        "id": "m04HBxSi3UwO"
      },
      "execution_count": 122,
      "outputs": []
    },
    {
      "cell_type": "code",
      "source": [
        "def softmax(Z):\n",
        "    A = np.exp(Z) / sum(np.exp(Z))\n",
        "    return A"
      ],
      "metadata": {
        "id": "0K9KPXAq3rcO"
      },
      "execution_count": 123,
      "outputs": []
    },
    {
      "cell_type": "code",
      "source": [
        "def forward_prop(W1, b1, W2, b2, X):\n",
        "    Z1 = W1.dot(X) + b1\n",
        "    A1 = ReLU(Z1)\n",
        "    Z2 = W2.dot(A1) + b2\n",
        "    A2 = softmax(Z2)\n",
        "    return Z1, A1, Z2, A2"
      ],
      "metadata": {
        "id": "FIw7j_4_3CwE"
      },
      "execution_count": 124,
      "outputs": []
    },
    {
      "cell_type": "code",
      "source": [
        "def one_hot(Y):\n",
        "    one_hot_Y = np.zeros((Y.size, Y.max() + 1))\n",
        "    one_hot_Y[np.arange(Y.size), Y] = 1\n",
        "    one_hot_Y = one_hot_Y.T\n",
        "    return one_hot_Y"
      ],
      "metadata": {
        "id": "6CLFPIpT4GXo"
      },
      "execution_count": 125,
      "outputs": []
    },
    {
      "cell_type": "code",
      "source": [
        "def ReLU_deriv(Z):\n",
        "    return Z > 0"
      ],
      "metadata": {
        "id": "j6Y1WBvy6Egi"
      },
      "execution_count": 126,
      "outputs": []
    },
    {
      "cell_type": "code",
      "source": [
        "def backward_prop(Z1, A1, Z2, A2, W1, W2, X, Y):\n",
        "    one_hot_Y = one_hot(Y)\n",
        "    dZ2 = A2 - one_hot_Y\n",
        "    dW2 = 1 / m * dZ2.dot(A1.T)\n",
        "    db2 = 1 / m * np.sum(dZ2)\n",
        "    dZ1 = W2.T.dot(dZ2) * ReLU_deriv(Z1)\n",
        "    dW1 = 1 / m * dZ1.dot(X.T)\n",
        "    db1 = 1 / m * np.sum(dZ1)\n",
        "    return dW1, db1, dW2, db2"
      ],
      "metadata": {
        "id": "oMn6NEJv4ArY"
      },
      "execution_count": 127,
      "outputs": []
    },
    {
      "cell_type": "code",
      "source": [
        "def update_params(W1, b1, W2, b2, dW1, db1, dW2, db2, alpha):\n",
        "    W1 = W1 - alpha * dW1\n",
        "    b1 = b1 - alpha * db1\n",
        "    W2 = W2 - alpha * dW2\n",
        "    b2 = b2 - alpha * db2\n",
        "    return W1, b1, W2, b2"
      ],
      "metadata": {
        "id": "8P1hl1-o6iLB"
      },
      "execution_count": 128,
      "outputs": []
    },
    {
      "cell_type": "code",
      "source": [
        "def get_predictions(A2):\n",
        "    return np.argmax(A2, 0)\n",
        "\n",
        "def get_accuracy(predictions, Y):\n",
        "    print(predictions, Y)\n",
        "    return np.sum(predictions == Y) / Y.size"
      ],
      "metadata": {
        "id": "Nfkq84Zp8fmY"
      },
      "execution_count": 129,
      "outputs": []
    },
    {
      "cell_type": "code",
      "source": [
        "def gradient_descent(X, Y, alpha, iterations):\n",
        "    W1, b1, W2, b2 = init_params()\n",
        "    for i in range(iterations):\n",
        "        Z1, A1, Z2, A2 = forward_prop(W1, b1, W2, b2, X)\n",
        "        dW1, db1, dW2, db2 = backward_prop(Z1, A1, Z2, A2, W1, W2, X, Y)\n",
        "        W1, b1, W2, b2 = update_params(W1, b1, W2, b2, dW1, db1, dW2, db2, alpha)\n",
        "        if i % 10 == 0:\n",
        "            print(\"Iteration: \", i)\n",
        "            predictions = get_predictions(A2)\n",
        "            print(get_accuracy(predictions, Y))\n",
        "    return W1, b1, W2, b2"
      ],
      "metadata": {
        "id": "nCA3bDgV7Du_"
      },
      "execution_count": 130,
      "outputs": []
    },
    {
      "cell_type": "code",
      "source": [
        "W1, b1, W2, b2 = gradient_descent(X_train, Y_train, 0.10, 500)"
      ],
      "metadata": {
        "colab": {
          "base_uri": "https://localhost:8080/"
        },
        "id": "dlPLCk3l8vUZ",
        "outputId": "84daa586-b4d2-451c-a3d3-1c132a701b68"
      },
      "execution_count": 131,
      "outputs": [
        {
          "output_type": "stream",
          "name": "stdout",
          "text": [
            "Iteration:  0\n",
            "[8 8 8 ... 8 8 8] [5 3 1 ... 4 9 4]\n",
            "0.1382439024390244\n",
            "Iteration:  10\n",
            "[0 8 8 ... 4 4 2] [5 3 1 ... 4 9 4]\n",
            "0.2520731707317073\n",
            "Iteration:  20\n",
            "[0 1 1 ... 4 4 2] [5 3 1 ... 4 9 4]\n",
            "0.3451951219512195\n",
            "Iteration:  30\n",
            "[0 1 1 ... 8 4 2] [5 3 1 ... 4 9 4]\n",
            "0.41941463414634145\n",
            "Iteration:  40\n",
            "[0 1 1 ... 8 4 4] [5 3 1 ... 4 9 4]\n",
            "0.4912682926829268\n",
            "Iteration:  50\n",
            "[5 1 1 ... 8 4 4] [5 3 1 ... 4 9 4]\n",
            "0.5485365853658537\n",
            "Iteration:  60\n",
            "[5 3 1 ... 8 4 4] [5 3 1 ... 4 9 4]\n",
            "0.5925853658536585\n",
            "Iteration:  70\n",
            "[5 3 1 ... 8 4 9] [5 3 1 ... 4 9 4]\n",
            "0.6249024390243902\n",
            "Iteration:  80\n",
            "[5 3 1 ... 8 4 9] [5 3 1 ... 4 9 4]\n",
            "0.6506829268292683\n",
            "Iteration:  90\n",
            "[5 3 1 ... 8 4 9] [5 3 1 ... 4 9 4]\n",
            "0.6714146341463415\n",
            "Iteration:  100\n",
            "[5 3 1 ... 8 9 9] [5 3 1 ... 4 9 4]\n",
            "0.6866585365853659\n",
            "Iteration:  110\n",
            "[5 3 1 ... 8 9 9] [5 3 1 ... 4 9 4]\n",
            "0.7006341463414634\n",
            "Iteration:  120\n",
            "[5 3 1 ... 8 9 9] [5 3 1 ... 4 9 4]\n",
            "0.7128536585365853\n",
            "Iteration:  130\n",
            "[5 3 1 ... 8 9 9] [5 3 1 ... 4 9 4]\n",
            "0.7227073170731707\n",
            "Iteration:  140\n",
            "[5 3 1 ... 8 9 9] [5 3 1 ... 4 9 4]\n",
            "0.7318048780487805\n",
            "Iteration:  150\n",
            "[5 3 1 ... 8 9 9] [5 3 1 ... 4 9 4]\n",
            "0.7392195121951219\n",
            "Iteration:  160\n",
            "[9 3 1 ... 8 9 9] [5 3 1 ... 4 9 4]\n",
            "0.7465853658536585\n",
            "Iteration:  170\n",
            "[9 3 1 ... 8 9 4] [5 3 1 ... 4 9 4]\n",
            "0.7530487804878049\n",
            "Iteration:  180\n",
            "[9 3 1 ... 8 9 4] [5 3 1 ... 4 9 4]\n",
            "0.7595853658536585\n",
            "Iteration:  190\n",
            "[9 3 1 ... 8 9 4] [5 3 1 ... 4 9 4]\n",
            "0.7651707317073171\n",
            "Iteration:  200\n",
            "[9 3 1 ... 8 9 4] [5 3 1 ... 4 9 4]\n",
            "0.7696341463414634\n",
            "Iteration:  210\n",
            "[9 3 1 ... 8 9 4] [5 3 1 ... 4 9 4]\n",
            "0.7745365853658537\n",
            "Iteration:  220\n",
            "[9 3 1 ... 8 9 4] [5 3 1 ... 4 9 4]\n",
            "0.7791951219512195\n",
            "Iteration:  230\n",
            "[9 3 1 ... 8 9 4] [5 3 1 ... 4 9 4]\n",
            "0.7837317073170732\n",
            "Iteration:  240\n",
            "[9 3 1 ... 8 9 4] [5 3 1 ... 4 9 4]\n",
            "0.7872682926829269\n",
            "Iteration:  250\n",
            "[9 3 1 ... 8 9 4] [5 3 1 ... 4 9 4]\n",
            "0.7909512195121952\n",
            "Iteration:  260\n",
            "[9 3 1 ... 8 9 4] [5 3 1 ... 4 9 4]\n",
            "0.7942439024390244\n",
            "Iteration:  270\n",
            "[9 3 1 ... 8 9 4] [5 3 1 ... 4 9 4]\n",
            "0.7977073170731708\n",
            "Iteration:  280\n",
            "[9 3 1 ... 8 9 4] [5 3 1 ... 4 9 4]\n",
            "0.8010731707317074\n",
            "Iteration:  290\n",
            "[9 3 1 ... 8 9 4] [5 3 1 ... 4 9 4]\n",
            "0.8035853658536586\n",
            "Iteration:  300\n",
            "[9 3 1 ... 8 9 4] [5 3 1 ... 4 9 4]\n",
            "0.8059268292682927\n",
            "Iteration:  310\n",
            "[9 3 1 ... 8 9 4] [5 3 1 ... 4 9 4]\n",
            "0.808439024390244\n",
            "Iteration:  320\n",
            "[9 3 1 ... 8 9 4] [5 3 1 ... 4 9 4]\n",
            "0.8112682926829269\n",
            "Iteration:  330\n",
            "[9 3 1 ... 8 9 4] [5 3 1 ... 4 9 4]\n",
            "0.8137560975609756\n",
            "Iteration:  340\n",
            "[9 3 1 ... 8 9 4] [5 3 1 ... 4 9 4]\n",
            "0.8163170731707317\n",
            "Iteration:  350\n",
            "[9 3 1 ... 8 9 4] [5 3 1 ... 4 9 4]\n",
            "0.8180975609756097\n",
            "Iteration:  360\n",
            "[9 3 1 ... 8 9 4] [5 3 1 ... 4 9 4]\n",
            "0.8200243902439024\n",
            "Iteration:  370\n",
            "[9 3 1 ... 8 9 4] [5 3 1 ... 4 9 4]\n",
            "0.8219268292682926\n",
            "Iteration:  380\n",
            "[9 3 1 ... 8 9 4] [5 3 1 ... 4 9 4]\n",
            "0.8233658536585365\n",
            "Iteration:  390\n",
            "[9 3 1 ... 8 9 4] [5 3 1 ... 4 9 4]\n",
            "0.825\n",
            "Iteration:  400\n",
            "[9 3 1 ... 8 9 4] [5 3 1 ... 4 9 4]\n",
            "0.8268536585365853\n",
            "Iteration:  410\n",
            "[9 3 1 ... 8 9 4] [5 3 1 ... 4 9 4]\n",
            "0.8286829268292683\n",
            "Iteration:  420\n",
            "[9 3 1 ... 8 9 4] [5 3 1 ... 4 9 4]\n",
            "0.8304390243902439\n",
            "Iteration:  430\n",
            "[9 3 1 ... 8 9 4] [5 3 1 ... 4 9 4]\n",
            "0.8322439024390244\n",
            "Iteration:  440\n",
            "[9 3 1 ... 8 9 4] [5 3 1 ... 4 9 4]\n",
            "0.8341951219512195\n",
            "Iteration:  450\n",
            "[9 3 1 ... 8 9 4] [5 3 1 ... 4 9 4]\n",
            "0.8357073170731707\n",
            "Iteration:  460\n",
            "[9 3 1 ... 8 9 4] [5 3 1 ... 4 9 4]\n",
            "0.8371219512195122\n",
            "Iteration:  470\n",
            "[9 3 1 ... 8 9 4] [5 3 1 ... 4 9 4]\n",
            "0.8387073170731707\n",
            "Iteration:  480\n",
            "[9 3 1 ... 8 9 4] [5 3 1 ... 4 9 4]\n",
            "0.8404146341463414\n",
            "Iteration:  490\n",
            "[9 3 1 ... 8 9 4] [5 3 1 ... 4 9 4]\n",
            "0.8416341463414634\n"
          ]
        }
      ]
    },
    {
      "cell_type": "code",
      "source": [
        "def make_predictions(X, W1, b1, W2, b2):\n",
        "    _, _, _, A2 = forward_prop(W1, b1, W2, b2, X)\n",
        "    predictions = get_predictions(A2)\n",
        "    return predictions"
      ],
      "metadata": {
        "id": "FF1AeG599Eau"
      },
      "execution_count": 134,
      "outputs": []
    },
    {
      "cell_type": "code",
      "source": [
        "def test_prediction(index, W1, b1, W2, b2):\n",
        "    current_image = X_train[:, index, None]\n",
        "    prediction = make_predictions(X_train[:, index, None], W1, b1, W2, b2)\n",
        "    label = Y_train[index]\n",
        "    print(\"Prediction: \", prediction)\n",
        "    print(\"Label: \", label)\n",
        "\n",
        "    current_image = current_image.reshape((28, 28)) * 255\n",
        "    plt.gray()\n",
        "    plt.imshow(current_image)\n",
        "    plt.show()"
      ],
      "metadata": {
        "id": "GdMAR2AiBfEl"
      },
      "execution_count": 139,
      "outputs": []
    },
    {
      "cell_type": "code",
      "source": [
        "test_prediction(1, W1, b1, W2, b2)"
      ],
      "metadata": {
        "colab": {
          "base_uri": "https://localhost:8080/",
          "height": 465
        },
        "id": "E1WpnsRMBmzH",
        "outputId": "9b4ce331-7ac4-45a8-c015-ba47d50f152f"
      },
      "execution_count": 143,
      "outputs": [
        {
          "output_type": "stream",
          "name": "stdout",
          "text": [
            "Prediction:  [3]\n",
            "Label:  3\n"
          ]
        },
        {
          "output_type": "display_data",
          "data": {
            "text/plain": [
              "<Figure size 640x480 with 1 Axes>"
            ],
            "image/png": "[encoded data removed]"
          },
          "metadata": {}
        }
      ]
    },
    {
      "cell_type": "code",
      "source": [
        "test_prediction(3, W1, b1, W2, b2)"
      ],
      "metadata": {
        "colab": {
          "base_uri": "https://localhost:8080/",
          "height": 465
        },
        "id": "Ds-T7lK-BoXO",
        "outputId": "91af970e-c930-4e26-897b-9a493d83c164"
      },
      "execution_count": 144,
      "outputs": [
        {
          "output_type": "stream",
          "name": "stdout",
          "text": [
            "Prediction:  [9]\n",
            "Label:  9\n"
          ]
        },
        {
          "output_type": "display_data",
          "data": {
            "text/plain": [
              "<Figure size 640x480 with 1 Axes>"
            ],
            "image/png": "[encoded data removed]"
          },
          "metadata": {}
        }
      ]
    },
    {
      "cell_type": "code",
      "source": [
        "dev_predictions = make_predictions(X_dev, W1, b1, W2, b2)\n",
        "get_accuracy(dev_predictions, Y_dev)"
      ],
      "metadata": {
        "colab": {
          "base_uri": "https://localhost:8080/"
        },
        "id": "hShueqi8Bp5S",
        "outputId": "1c6c9d18-d9b3-47f6-f67e-ef198bde197b"
      },
      "execution_count": 145,
      "outputs": [
        {
          "output_type": "stream",
          "name": "stdout",
          "text": [
            "[6 1 0 5 5 3 0 4 6 4 4 2 4 5 8 3 8 0 3 3 3 2 0 4 1 1 5 1 4 5 9 1 9 0 4 4 9\n",
            " 6 9 5 4 6 9 3 3 3 5 1 4 8 5 0 2 0 6 9 3 4 4 4 6 1 3 9 2 3 6 3 3 4 2 8 8 6\n",
            " 1 3 4 8 1 8 3 6 1 2 5 6 3 2 8 6 4 8 6 4 0 6 8 4 1 1 6 4 1 6 4 2 8 3 1 9 0\n",
            " 1 3 6 9 3 2 5 4 4 9 6 1 0 5 4 6 6 6 3 5 7 6 2 8 6 7 0 2 3 6 8 2 3 3 0 2 8\n",
            " 3 6 2 8 0 9 1 7 3 7 4 5 0 1 3 3 4 6 5 5 0 7 6 9 2 2 2 3 0 6 1 2 7 3 3 6 4\n",
            " 6 6 6 6 4 4 2 0 0 6 0 1 6 7 8 7 2 7 2 4 1 5 9 2 1 4 0 1 3 5 1 8 7 0 2 3 7\n",
            " 7 6 0 9 4 6 0 2 2 6 9 4 2 3 1 9 2 0 9 7 9 2 4 0 4 9 8 1 9 6 7 1 6 2 1 0 7\n",
            " 8 1 7 9 8 7 1 1 9 7 0 6 0 9 3 6 4 6 2 9 3 6 9 4 2 7 5 5 4 1 1 7 9 4 1 6 8\n",
            " 9 2 6 3 4 9 7 2 7 0 9 7 4 7 6 9 3 3 8 6 7 4 4 9 1 2 7 0 0 4 7 9 6 0 1 5 7\n",
            " 8 7 0 1 3 1 9 7 8 5 9 0 9 7 0 8 9 7 4 2 2 6 6 9 5 4 1 8 2 0 6 3 0 1 1 7 4\n",
            " 0 0 2 1 9 1 6 3 1 9 2 3 7 3 5 6 5 1 1 8 6 5 1 1 6 8 2 6 2 0 2 5 5 7 7 6 9\n",
            " 3 1 2 6 7 4 9 2 7 0 8 9 8 8 2 6 5 9 4 8 3 2 2 0 6 6 0 6 2 3 3 6 3 3 6 3 4\n",
            " 4 7 3 6 1 6 8 8 0 7 3 9 1 6 6 4 6 0 9 4 2 9 2 3 5 8 7 0 3 4 6 9 7 4 0 4 2\n",
            " 3 2 4 0 9 5 2 0 3 1 3 6 8 0 2 5 3 2 9 3 8 9 8 3 9 4 4 1 5 7 4 6 9 0 6 0 1\n",
            " 1 6 4 1 3 8 8 0 9 3 3 4 6 8 3 4 9 5 8 5 7 9 5 7 0 9 5 8 3 7 8 9 4 6 9 1 5\n",
            " 2 5 7 7 1 5 4 3 9 4 6 1 1 7 6 6 1 0 2 9 3 1 8 7 8 2 9 7 2 7 3 1 2 6 2 0 0\n",
            " 2 3 9 4 6 2 6 5 5 3 7 6 9 8 8 2 8 5 4 8 7 6 2 7 1 5 5 9 5 8 2 8 8 5 2 1 2\n",
            " 9 4 5 4 1 4 1 6 2 9 4 4 3 9 9 2 5 0 0 8 4 6 9 6 7 0 5 4 1 7 1 8 3 8 4 2 7\n",
            " 3 1 1 1 4 3 8 5 6 3 3 2 0 2 3 7 4 8 8 5 7 6 4 5 7 4 0 2 0 8 0 0 1 0 2 6 4\n",
            " 6 4 2 5 7 0 3 7 4 5 2 7 4 4 1 0 3 1 6 0 6 6 0 3 2 3 9 3 8 1 1 1 3 7 4 8 7\n",
            " 0 9 8 4 4 6 2 1 1 8 8 0 6 2 4 0 2 7 8 6 0 5 9 2 5 1 0 4 5 5 5 9 2 0 1 4 1\n",
            " 2 1 0 0 5 8 0 2 2 6 0 9 8 5 2 2 5 8 3 1 5 9 0 6 1 6 2 3 8 9 4 9 3 3 4 9 8\n",
            " 6 0 8 2 5 0 3 7 0 8 1 7 6 6 5 9 4 0 2 1 1 1 8 1 5 3 7 0 5 8 1 1 0 0 8 2 7\n",
            " 3 0 7 4 6 0 4 1 5 0 1 4 3 3 5 1 9 5 4 7 9 3 9 5 0 4 1 4 5 4 9 9 3 5 7 1 9\n",
            " 3 2 1 2 9 0 2 1 9 7 1 6 6 4 7 2 9 0 4 7 7 2 0 6 5 4 2 4 4 0 2 9 3 1 0 5 2\n",
            " 4 3 1 3 4 7 7 0 0 3 0 5 6 1 9 1 7 3 9 0 9 4 4 2 9 4 2 0 0 4 8 8 4 1 4 4 2\n",
            " 3 2 3 7 0 3 0 0 3 9 9 3 1 9 1 4 9 5 1 7 8 3 7 0 8 8 5 5 7 0 7 7 3 5 6 0 5\n",
            " 2] [6 1 0 8 5 3 0 4 6 4 4 2 4 5 2 3 8 0 3 3 3 2 0 9 8 1 5 1 4 6 9 1 9 5 4 4 9\n",
            " 5 9 3 4 6 7 3 3 3 5 1 4 8 5 0 8 0 0 0 3 4 9 4 6 1 3 4 2 3 5 3 3 4 2 8 8 6\n",
            " 1 1 4 8 1 8 3 8 1 2 5 6 3 2 8 6 9 5 6 4 5 5 8 9 8 1 6 4 1 2 4 2 8 3 1 9 0\n",
            " 1 3 6 9 3 2 5 4 4 9 6 7 0 5 8 6 6 6 3 5 7 6 2 9 6 7 0 2 3 6 8 2 3 3 2 7 3\n",
            " 8 2 2 8 0 9 1 7 5 7 4 5 0 1 2 3 4 6 5 5 0 7 6 9 2 2 2 3 0 6 1 6 7 3 3 6 4\n",
            " 6 6 4 6 4 4 2 0 0 6 0 1 6 7 8 7 2 7 2 4 1 5 9 7 1 4 0 1 3 5 1 8 7 0 2 5 7\n",
            " 7 6 0 9 4 6 0 8 2 6 9 4 7 3 8 9 2 0 9 7 8 2 6 0 5 9 8 1 9 6 7 1 8 2 1 0 7\n",
            " 8 1 7 9 8 7 1 1 4 4 0 8 0 4 3 6 4 6 2 9 3 6 9 6 2 2 5 5 4 1 1 7 9 4 1 2 8\n",
            " 9 2 6 3 4 9 7 2 7 0 4 7 4 7 6 9 3 2 4 6 7 4 4 8 1 2 7 0 0 4 7 9 6 0 1 5 7\n",
            " 8 7 0 1 3 1 9 9 8 5 7 0 9 7 0 8 9 7 4 2 2 6 6 9 5 4 1 8 2 0 6 3 0 1 1 7 4\n",
            " 0 0 2 1 4 1 2 3 1 4 2 3 8 5 5 8 5 1 1 8 4 5 1 2 6 8 2 6 2 0 2 5 5 7 7 6 9\n",
            " 3 1 2 6 7 4 9 2 7 0 3 9 3 8 4 6 5 9 4 8 3 2 2 0 6 6 0 6 2 2 3 5 3 3 6 2 2\n",
            " 4 7 3 6 1 6 4 3 0 7 3 9 1 6 6 4 6 0 9 6 2 7 2 8 5 8 7 0 2 4 6 9 7 4 0 3 2\n",
            " 2 2 4 0 9 5 2 0 3 1 3 6 8 0 2 5 3 2 7 3 8 9 8 3 9 4 4 2 5 7 4 6 9 0 6 0 1\n",
            " 1 6 4 8 3 8 8 0 9 3 3 4 6 2 3 4 9 0 8 5 7 7 5 7 0 9 5 6 3 7 8 7 4 6 9 1 5\n",
            " 2 8 7 7 1 5 4 3 9 4 6 1 1 1 6 6 1 0 2 9 8 1 8 7 8 2 9 7 2 7 3 1 2 6 2 0 0\n",
            " 3 3 9 4 5 3 6 5 5 5 7 6 4 8 8 2 8 5 4 3 7 6 5 9 1 5 5 9 5 8 2 8 8 5 2 1 2\n",
            " 9 4 3 4 1 4 1 5 2 9 4 4 3 4 9 2 5 0 0 8 4 6 9 6 7 0 5 4 1 7 1 8 3 8 4 2 7\n",
            " 3 2 1 3 4 5 1 5 5 3 3 2 0 8 3 7 4 6 6 5 7 6 4 5 7 4 0 0 0 8 0 0 1 0 3 6 4\n",
            " 6 4 2 5 7 0 3 7 4 5 2 7 4 9 1 0 3 1 6 0 6 6 0 3 2 9 4 3 8 1 1 1 5 7 4 8 7\n",
            " 0 9 8 4 6 6 2 1 1 8 5 3 6 2 4 0 2 7 8 6 2 5 9 2 5 1 2 4 5 5 5 9 2 0 1 4 1\n",
            " 2 1 0 0 5 8 0 2 2 6 0 4 8 5 2 2 5 8 3 1 5 9 0 6 1 6 2 3 8 9 4 9 3 3 4 8 3\n",
            " 6 0 8 2 5 0 3 7 0 8 1 7 6 6 5 9 4 0 2 1 1 1 8 1 5 3 7 0 5 8 1 1 0 0 8 2 7\n",
            " 3 0 7 9 6 0 4 1 5 0 1 4 3 3 3 1 9 3 4 7 9 3 9 5 0 9 1 4 8 4 9 9 3 5 2 1 9\n",
            " 3 2 1 3 9 0 2 1 9 9 1 6 6 4 7 4 9 0 4 7 7 2 0 6 5 4 2 4 4 0 2 7 3 5 0 5 2\n",
            " 4 3 1 3 4 7 7 0 0 3 0 5 5 1 9 1 9 3 9 0 9 4 4 2 9 4 6 5 0 4 8 8 4 1 4 4 2\n",
            " 3 2 3 7 0 3 5 0 3 9 9 3 1 9 1 4 9 5 1 7 8 5 2 0 8 8 5 5 7 0 7 7 3 7 6 0 7\n",
            " 2]\n"
          ]
        },
        {
          "output_type": "execute_result",
          "data": {
            "text/plain": [
              "0.855"
            ]
          },
          "metadata": {},
          "execution_count": 145
        }
      ]
    },
    {
      "cell_type": "code",
      "source": [],
      "metadata": {
        "id": "XBYPwYIpCJCq"
      },
      "execution_count": null,
      "outputs": []
    }
  ]
}